{
 "cells": [
  {
   "cell_type": "markdown",
   "metadata": {},
   "source": [
    "# Monads\n",
    "https://www.pandaandthegeek.com/post/monads-scala"
   ]
  },
  {
   "cell_type": "code",
   "execution_count": 1,
   "metadata": {
    "dotnet_interactive": {
     "language": "csharp"
    },
    "polyglot_notebook": {
     "kernelName": "csharp"
    },
    "vscode": {
     "languageId": "polyglot-notebook"
    }
   },
   "outputs": [
    {
     "name": "stdout",
     "output_type": "stream",
     "text": [
      "0\r\n"
     ]
    }
   ],
   "source": [
    "static int? DivBy(int a, int b) =>\n",
    "    b == 0 ? default : a / b;\n",
    "\n",
    "static int? Sample_Nullable() {\n",
    "    var a = 1;\n",
    "    var b = 2;\n",
    "\n",
    "    var c = DivBy(a, b);\n",
    "    if (c is null){\n",
    "        Console.WriteLine(\"c is null\");\n",
    "        return default;\n",
    "    }\n",
    "\n",
    "    var d = DivBy(a, c.Value);\n",
    "    if (d is null){\n",
    "        Console.WriteLine(\"d is null\");\n",
    "        return default;\n",
    "    }\n",
    "\n",
    "    var e = DivBy(b, d.Value);\n",
    "    if (e is null) {\n",
    "        Console.WriteLine(\"e is null\");\n",
    "        return default;\n",
    "    }\n",
    "        \n",
    "\n",
    "    return e;\n",
    "}\n",
    "\n",
    "Console.WriteLine(Sample_Nullable())"
   ]
  },
  {
   "cell_type": "code",
   "execution_count": null,
   "metadata": {
    "dotnet_interactive": {
     "language": "csharp"
    },
    "polyglot_notebook": {
     "kernelName": "csharp"
    }
   },
   "outputs": [
    {
     "name": "stdout",
     "output_type": "stream",
     "text": [
      "e did not work DivByZero\n",
      "(DivByZero, 0)\n"
     ]
    }
   ],
   "source": [
    "public enum StatusCode {\n",
    "    Ok,\n",
    "    DivByZero\n",
    "}\n",
    "\n",
    "static (StatusCode, int) DivBy(int a, int b) =>\n",
    "    b == 0 ? (StatusCode.DivByZero, default) : (StatusCode.Ok, a / b);\n",
    "\n",
    "static (StatusCode, int) Sample_StatusCode() {\n",
    "    var a = 1;\n",
    "    var b = 2;\n",
    "\n",
    "    var (statusC, c) = DivBy(a, b);\n",
    "    \n",
    "    if (statusC is StatusCode.DivByZero){\n",
    "        Console.WriteLine($\"e did not work {statusC}\");\n",
    "        return (StatusCode.DivByZero, default);    \n",
    "    }\n",
    "\n",
    "    var (statusD, d) = DivBy(a, c);\n",
    "    if (statusD is StatusCode.DivByZero) {\n",
    "        Console.WriteLine($\"e did not work {statusD}\");\n",
    "        return (StatusCode.DivByZero, default);    \n",
    "    }\n",
    "\n",
    "    var (statusE, e) = DivBy(a, c);\n",
    "    if (statusE is StatusCode.DivByZero) {\n",
    "        Console.WriteLine($\"e did not work {statusE}\");\n",
    "        return (StatusCode.DivByZero, default);    \n",
    "    }\n",
    "\n",
    "    return (statusE, e);\n",
    "}\n",
    "\n",
    "Console.WriteLine(Sample_StatusCode())"
   ]
  },
  {
   "cell_type": "code",
   "execution_count": null,
   "metadata": {
    "dotnet_interactive": {
     "language": "csharp"
    },
    "polyglot_notebook": {
     "kernelName": "csharp"
    }
   },
   "outputs": [],
   "source": [
    "struct Result<A>\n",
    "{\n",
    "    private readonly A value;\n",
    "\n",
    "    private readonly bool isOk;\n",
    "\n",
    "    private readonly StatusCode code;\n",
    "\n",
    "    private Result(A value)\n",
    "    {\n",
    "        this.value = value;\n",
    "    }\n",
    "\n",
    "    private Result(StatusCode code)\n",
    "    {\n",
    "        this.code = code;\n",
    "    }\n",
    "\n",
    "    public static Result<A> Identity(A value) => new(value);\n",
    "\n",
    "    public static Result<A> Error(StatusCode code) => new(code);\n",
    "\n",
    "    public Result<B> Bind<B>(Func<A, Result<B>> functor)\n",
    "    {\n",
    "        if (isOk)\n",
    "        {\n",
    "            return functor(value);\n",
    "        }\n",
    "        else\n",
    "        {\n",
    "            Console.WriteLine($\"Value is not set: {code}\");\n",
    "            return Result<B>.Error(code);\n",
    "        }\n",
    "    }\n",
    "\n",
    "    public override string ToString() =>\n",
    "        isOk\n",
    "            ? $\"Ok({value})\"\n",
    "            : $\"Error({code})\";\n",
    "}\n",
    "\n",
    "static Func<Result<int>> DivBy(int a, int b) =>\n",
    "    b == 0\n",
    "        ? Result<int>.Error(StatusCode.DivByZero)\n",
    "        : Result<int>.Identity(a / b);\n",
    "\n",
    "static Result<int> Sample_Result(int a, int b)\n",
    "{\n",
    "    var cResult = DivBy(a, b);\n",
    "    var dResult = cResult.Bind(c => DivBy(a, c));\n",
    "    var eResult = dResult.Bind(d => DivBy(b, d));\n",
    "    return eResult;\n",
    "}\n",
    "\n",
    "Console.WriteLine(Sample_Result(1, 2));"
   ]
  }
 ],
 "metadata": {
  "language_info": {
   "name": "csharp"
  }
 },
 "nbformat": 4,
 "nbformat_minor": 2
}
