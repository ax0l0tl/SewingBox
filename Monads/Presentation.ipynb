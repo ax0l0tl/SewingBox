{
 "cells": [
  {
   "cell_type": "markdown",
   "metadata": {},
   "source": [
    "# Monads\n",
    "https://www.pandaandthegeek.com/post/monads-scala"
   ]
  },
  {
   "cell_type": "code",
   "execution_count": null,
   "metadata": {
    "dotnet_interactive": {
     "language": "csharp"
    },
    "polyglot_notebook": {
     "kernelName": "csharp"
    },
    "vscode": {
     "languageId": "polyglot-notebook"
    }
   },
   "outputs": [],
   "source": [
    "static int? DivBy(int a, int b) =>\n",
    "    b == 0 ? default(int?) : a / b;\n",
    "\n",
    "static int? Sample_Nullable(int a, int b) {\n",
    "    var c = DivBy(a, b);\n",
    "    if (c is null){\n",
    "        Console.WriteLine(\"c is null\");\n",
    "        return default;\n",
    "    }\n",
    "\n",
    "    var d = DivBy(a, c.Value);\n",
    "    if (d is null){\n",
    "        Console.WriteLine(\"d is null\");\n",
    "        return default;\n",
    "    }\n",
    "\n",
    "    var e = DivBy(b, d.Value);\n",
    "    if (e is null) {\n",
    "        Console.WriteLine(\"e is null\");\n",
    "        return default;\n",
    "    }\n",
    "\n",
    "    return e;\n",
    "}\n",
    "\n",
    "Console.WriteLine($\"Result: {Sample_Nullable(1, 2)}\");"
   ]
  },
  {
   "cell_type": "code",
   "execution_count": null,
   "metadata": {
    "dotnet_interactive": {
     "language": "csharp"
    },
    "polyglot_notebook": {
     "kernelName": "csharp"
    },
    "vscode": {
     "languageId": "polyglot-notebook"
    }
   },
   "outputs": [],
   "source": [
    "public enum StatusCode {\n",
    "    Ok,\n",
    "    DivByZero\n",
    "}\n",
    "\n",
    "static (StatusCode, int) DivBy(int a, int b) =>\n",
    "    b == 0 ? (StatusCode.DivByZero, default) : (StatusCode.Ok, a / b);\n",
    "\n",
    "static (StatusCode, int) Sample_StatusCode(int a, int b) {\n",
    "    var (statusC, c) = DivBy(a, b);\n",
    "    \n",
    "    if (statusC is StatusCode.DivByZero){\n",
    "        Console.WriteLine($\"e did not work {statusC}\");\n",
    "        return (StatusCode.DivByZero, default);    \n",
    "    }\n",
    "\n",
    "    var (statusD, d) = DivBy(a, c);\n",
    "    if (statusD is StatusCode.DivByZero) {\n",
    "        Console.WriteLine($\"e did not work {statusD}\");\n",
    "        return (StatusCode.DivByZero, default);    \n",
    "    }\n",
    "\n",
    "    var (statusE, e) = DivBy(a, c);\n",
    "    if (statusE is StatusCode.DivByZero) {\n",
    "        Console.WriteLine($\"e did not work {statusE}\");\n",
    "        return (StatusCode.DivByZero, default);    \n",
    "    }\n",
    "\n",
    "    return (statusE, e);\n",
    "}\n",
    "\n",
    "Console.WriteLine($\"Result: {Sample_StatusCode(1, 2)}\");"
   ]
  },
  {
   "cell_type": "code",
   "execution_count": null,
   "metadata": {
    "dotnet_interactive": {
     "language": "csharp"
    },
    "polyglot_notebook": {
     "kernelName": "csharp"
    },
    "vscode": {
     "languageId": "polyglot-notebook"
    }
   },
   "outputs": [],
   "source": [
    "readonly struct Result<A>\n",
    "{\n",
    "    private readonly A value;\n",
    "    private readonly bool isOk;\n",
    "    private readonly string error = string.Empty;\n",
    "\n",
    "    private Result(A value)\n",
    "    {\n",
    "        this.value = value;\n",
    "        this.isOk = true;\n",
    "    }\n",
    "\n",
    "    private Result(string error)\n",
    "    {\n",
    "        this.error = error;\n",
    "        this.isOk = false;\n",
    "    }\n",
    "\n",
    "    public static Result<A> Identity(A value) => new(value);\n",
    "\n",
    "    public static Result<A> Error(string error) => new(error);\n",
    "\n",
    "    public Result<B> Bind<B>(Func<A, Result<B>> transform)\n",
    "    {\n",
    "        if (isOk)\n",
    "        {\n",
    "            Console.WriteLine($\"Bind: {this}\");\n",
    "            return transform(value);\n",
    "        }\n",
    "        else\n",
    "        {\n",
    "            Console.WriteLine($\"Skip bind: {this}\");\n",
    "            return Result<B>.Error(error);\n",
    "        }\n",
    "    }\n",
    "\n",
    "    public override string ToString() =>\n",
    "        isOk\n",
    "            ? $\"Ok({value})\"\n",
    "            : $\"Error({error})\";\n",
    "}\n",
    "\n",
    "static Result<int> DivBy(int a, int b) =>\n",
    "    b == 0\n",
    "        ? Result<int>.Error(\"Cannot divide by zero\")\n",
    "        : Result<int>.Identity(a / b);\n",
    "\n",
    "static Result<int> Sample_Result(int a, int b)\n",
    "{\n",
    "    var cResult = DivBy(a, b);\n",
    "    var dResult = cResult.Bind(c => DivBy(a, c));\n",
    "    var eResult = dResult.Bind(d => DivBy(b, d));\n",
    "    return eResult;\n",
    "}\n",
    "\n",
    "Console.WriteLine($\"Result: {Sample_Result(1, 2)}\");"
   ]
  },
  {
   "cell_type": "code",
   "execution_count": null,
   "metadata": {
    "dotnet_interactive": {
     "language": "csharp"
    },
    "polyglot_notebook": {
     "kernelName": "csharp"
    },
    "vscode": {
     "languageId": "polyglot-notebook"
    }
   },
   "outputs": [],
   "source": [
    "public class Writer<T, L>\n",
    "{\n",
    "    private readonly T value;\n",
    "    private IEnumerable<L> Elements { get; }\n",
    "    \n",
    "    public (T, IEnumerable<L>) Unsafe() => (value, Elements);\n",
    "\n",
    "    public static Writer<T, L> Identity(T value, L element) => Identity(value, new[] {element});\n",
    "    public static Writer<T, L> Identity(T value, IEnumerable<L> elements) => new Writer<T, L>(value, elements);\n",
    "\n",
    "    private Writer(T value, IEnumerable<L> elements)\n",
    "    {\n",
    "        this.value = value;\n",
    "        this.Elements = elements;\n",
    "    }\n",
    "    \n",
    "    public Writer<R, L> Map<R>(Func<T, R> fn)\n",
    "    {\n",
    "        return FlapMap(v => Writer<R, L>.Identity(fn(v), Elements));\n",
    "    }\n",
    "    \n",
    "    public Writer<R, L> FlapMap<R>(Func<T, Writer<R, L>> fn)\n",
    "    {\n",
    "        var (v, newElements) = fn(value).Unsafe();\n",
    "        \n",
    "        var acc = new List<L>(Elements);\n",
    "        acc.AddRange(newElements);\n",
    "        return new Writer<R, L>(v, acc);\n",
    "    }\n",
    "}\n",
    "\n",
    "public static class Calculator\n",
    "{\n",
    "    public static Writer<int, string> sum(int a, int b) =>\n",
    "        Writer<int, string>.Identity(a + b, \"sum (\" + a + \" + \" + b + \")\");\n",
    "\n",
    "    public static Writer<int, string> mul(int a, int b) =>\n",
    "        Writer<int, string>.Identity(a * b, \"mul (\" + a + \" * \" + b + \")\");\n",
    "        \n",
    "    public static Writer<int, string> dif(int a, int b) =>\n",
    "        Writer<int, string>.Identity(a - b, \"diff (\" + a + \" - \" + b + \")\");\n",
    "        \n",
    "    public static Writer<int, string> squared(int a) =>\n",
    "        Writer<int, string>.Identity(a * a, \"squared (\" + a + \")\");\n",
    "}\n",
    "\n",
    "var final = Calculator\n",
    "    .sum(5, 5)\n",
    "    .FlapMap(n => Calculator.mul(n, 2))\n",
    "    .FlapMap(n => Calculator.dif(n, 18))\n",
    "    .FlapMap(n => Calculator.squared(n));\n",
    "    \n",
    "var (value, log) = final.Unsafe();\n",
    "\n",
    "Console.WriteLine($\"Calculator result: {value}\");\n",
    "\n",
    "foreach (string s in log)\n",
    "{\n",
    "    Console.Write(s + \" \");\n",
    "    Console.WriteLine();\n",
    "}"
   ]
  }
 ],
 "metadata": {
  "language_info": {
   "name": "csharp"
  }
 },
 "nbformat": 4,
 "nbformat_minor": 2
}
